{
 "cells": [
  {
   "cell_type": "code",
   "execution_count": 4,
   "id": "7b293636-160a-423d-b155-cd72b67813fa",
   "metadata": {},
   "outputs": [
    {
     "name": "stdout",
     "output_type": "stream",
     "text": [
      "   depth    recall  precision        F1\n",
      "0      1  0.666667   0.833333  0.555556\n",
      "1      2  0.974359   0.976190  0.974321\n",
      "2      3  1.000000   1.000000  1.000000\n",
      "3      4  1.000000   1.000000  1.000000\n",
      "4      5  1.000000   1.000000  1.000000\n"
     ]
    }
   ],
   "source": [
    "from sklearn.datasets import load_iris\n",
    "from sklearn.model_selection import train_test_split\n",
    "from sklearn.tree import DecisionTreeClassifier\n",
    "from sklearn.metrics import recall_score, precision_score, f1_score\n",
    "import pandas as pd\n",
    "\n",
    "iris = load_iris()\n",
    "X, y = iris.data, iris.target\n",
    "X_train, X_test, y_train, y_test = train_test_split(X, y, test_size=0.3, random_state=42)\n",
    "\n",
    "results = []\n",
    "for depth in [1, 2, 3, 4, 5]:\n",
    "    clf = DecisionTreeClassifier(\n",
    "        max_depth=depth,\n",
    "        min_samples_leaf=2,\n",
    "        min_samples_split=5,\n",
    "        random_state=42\n",
    "    )\n",
    "    clf.fit(X_train, y_train)\n",
    "    y_pred = clf.predict(X_test)\n",
    "    recall = recall_score(y_test, y_pred, average=\"macro\")\n",
    "    precision = precision_score(y_test, y_pred, average=\"macro\",zero_division=1)\n",
    "    F1 = f1_score(y_test, y_pred, average=\"macro\")\n",
    "    results.append({\n",
    "        \"depth\": depth,\n",
    "        \"recall\": recall,\n",
    "        \"precision\": precision,\n",
    "        \"F1\": F1\n",
    "    })\n",
    "\n",
    "results_df = pd.DataFrame(results)\n",
    "print(results_df)"
   ]
  }
 ],
 "metadata": {
  "kernelspec": {
   "display_name": "Python 3 (ipykernel)",
   "language": "python",
   "name": "python3"
  },
  "language_info": {
   "codemirror_mode": {
    "name": "ipython",
    "version": 3
   },
   "file_extension": ".py",
   "mimetype": "text/x-python",
   "name": "python",
   "nbconvert_exporter": "python",
   "pygments_lexer": "ipython3",
   "version": "3.9.10"
  }
 },
 "nbformat": 4,
 "nbformat_minor": 5
}
